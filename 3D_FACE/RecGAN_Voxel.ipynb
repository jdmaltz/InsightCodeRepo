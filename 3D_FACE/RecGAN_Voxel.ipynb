{
 "cells": [
  {
   "cell_type": "markdown",
   "metadata": {},
   "source": [
    "# RecGAN Voxel Output\n",
    "## This notebook converts the output .mat file from the RecGAN network to a voxel .obj format for use in meshviewer."
   ]
  },
  {
   "cell_type": "code",
   "execution_count": 1,
   "metadata": {},
   "outputs": [],
   "source": [
    "# Importing Dependancies for functions\n",
    "import os\n",
    "import numpy as np\n",
    "import scipy.io\n",
    "import tensorflow as tf\n",
    "import tools\n",
    "import matplotlib.pyplot as plt\n",
    "from mpl_toolkits.mplot3d import Axes3D\n"
   ]
  },
  {
   "cell_type": "code",
   "execution_count": 2,
   "metadata": {},
   "outputs": [],
   "source": [
    "# Defining functions for conversion of file type\n",
    "## Converts numpy array to mesh .obj points\n",
    "def voxel2mesh(voxels, surface_view):\n",
    "    cube_verts = [[0, 0, 0], [0, 0, 1], [0, 1, 0], [0, 1, 1], [1, 0, 0], [1, 0, 1], [1, 1, 0],\n",
    "                  [1, 1, 1]]  # 8 points\n",
    "\n",
    "    cube_faces = [[0, 1, 2], [1, 3, 2], [2, 3, 6], [3, 7, 6], [0, 2, 6], [0, 6, 4], [0, 5, 1],\n",
    "                  [0, 4, 5], [6, 7, 5], [6, 5, 4], [1, 7, 3], [1, 5, 7]]  # 12 face\n",
    "\n",
    "    cube_verts = np.array(cube_verts)\n",
    "    cube_faces = np.array(cube_faces) + 1\n",
    "\n",
    "    scale = 0.01\n",
    "    cube_dist_scale = 1.1\n",
    "    verts = []\n",
    "    faces = []\n",
    "    curr_vert = 0\n",
    "\n",
    "    positions = np.where(voxels > 0.3)\n",
    "    voxels[positions] = 1\n",
    "    for i, j, k in zip(*positions):\n",
    "        # identifies if current voxel has an exposed face\n",
    "        if not surface_view or np.sum(voxels[i-1:i+2, j-1:j+2, k-1:k+2]) < 27:\n",
    "            verts.extend(scale * (cube_verts + cube_dist_scale * np.array([[i, j, k]])))\n",
    "            faces.extend(cube_faces + curr_vert)\n",
    "            curr_vert += len(cube_verts)\n",
    "\n",
    "    return np.array(verts), np.array(faces)\n",
    "\n",
    "# Saves the .obj file\n",
    "def write_obj(filename, verts, faces):\n",
    "    \"\"\" write the verts and faces on file.\"\"\"\n",
    "    with open(filename, 'w') as f:\n",
    "        # write vertices\n",
    "        f.write('g\\n# %d vertex\\n' % len(verts))\n",
    "        for vert in verts:\n",
    "            f.write('v %f %f %f\\n' % tuple(vert))\n",
    "\n",
    "        # write faces\n",
    "        f.write('# %d faces\\n' % len(faces))\n",
    "        for face in faces:\n",
    "            f.write('f %d %d %d\\n' % tuple(face))\n",
    "\n",
    "# Function called to convert the format of the output and save the file.\n",
    "def voxel2obj(filename, pred, surface_view = True):\n",
    "    verts, faces = voxel2mesh(pred, surface_view)\n",
    "    write_obj(filename, verts, faces)\n",
    "    return  verts, faces\n"
   ]
  },
  {
   "cell_type": "code",
   "execution_count": 3,
   "metadata": {},
   "outputs": [],
   "source": [
    "# Setting the variable for the saved output from RecGAN network\n",
    "\n",
    "result_path = ('/home/josh/overtrain/no_test_train_split/X_Y_pred_999_00000.mat')\n",
    "output = scipy.io.loadmat(result_path)\n"
   ]
  },
  {
   "cell_type": "code",
   "execution_count": 4,
   "metadata": {},
   "outputs": [],
   "source": [
    "# Extracting the boolean numpy arrays for the RecGAN input batches, prediction and ground truth\n",
    "x_sample = output['X_test']  # Input from R2N2 network\n",
    "y_pred = output['Y_test_pred'] # RecGAN network prediction\n",
    "y_true = output['Y_test_true'] # RecGAN ground truth"
   ]
  },
  {
   "cell_type": "code",
   "execution_count": 5,
   "metadata": {},
   "outputs": [
    {
     "data": {
      "text/plain": [
       "(4, 64, 64, 64, 1)"
      ]
     },
     "execution_count": 5,
     "metadata": {},
     "output_type": "execute_result"
    }
   ],
   "source": [
    "# Verifying the shape is a follows [batch_size, x, y, z , T/F]\n",
    "x_sample.shape"
   ]
  },
  {
   "cell_type": "code",
   "execution_count": 6,
   "metadata": {},
   "outputs": [
    {
     "data": {
      "text/plain": [
       "(array([[0.   , 0.847, 0.825],\n",
       "        [0.   , 0.847, 0.835],\n",
       "        [0.   , 0.857, 0.825],\n",
       "        ...,\n",
       "        [2.815, 2.805, 2.804],\n",
       "        [2.815, 2.815, 2.794],\n",
       "        [2.815, 2.815, 2.804]]), array([[      1,       2,       3],\n",
       "        [      2,       4,       3],\n",
       "        [      3,       4,       7],\n",
       "        ...,\n",
       "        [1122327, 1122326, 1122325],\n",
       "        [1122322, 1122328, 1122324],\n",
       "        [1122322, 1122326, 1122328]]))"
      ]
     },
     "execution_count": 6,
     "metadata": {},
     "output_type": "execute_result"
    }
   ],
   "source": [
    "# Saving the predicted output array as an .obj file for viewing in MeshViewer\n",
    "voxel2obj('overtrained_nosplit_test_0.obj', y_pred[0,:,:,:,0])"
   ]
  },
  {
   "cell_type": "code",
   "execution_count": 7,
   "metadata": {},
   "outputs": [],
   "source": [
    "\n",
    "# function used to plot the reconstruction in the notebook\n",
    "\n",
    "def plotFromVoxels(voxels,title=''):\n",
    "    if len(voxels.shape)>3:\n",
    "        x_d = voxels.shape[0]\n",
    "        y_d = voxels.shape[1]\n",
    "        z_d = voxels.shape[2]\n",
    "        v = voxels[:,:,:,0]\n",
    "        v = np.reshape(v,(x_d,y_d,z_d))\n",
    "    else:\n",
    "        v = voxels\n",
    "        x, y, z = v.nonzero()\n",
    "        fig = plt.figure()\n",
    "        ax = fig.add_subplot(111, projection='3d')\n",
    "        ax.scatter(x, y, z, zdir='z', c='red')\n",
    "        #plt.show()\n",
    "        plt.title(title)\n",
    "        from matplotlib.pyplot import show\n",
    "        show\n"
   ]
  },
  {
   "cell_type": "code",
   "execution_count": 8,
   "metadata": {},
   "outputs": [
    {
     "data": {
      "image/png": "[encoded data removed]",
      "text/plain": [
       "<Figure size 432x288 with 1 Axes>"
      ]
     },
     "metadata": {},
     "output_type": "display_data"
    }
   ],
   "source": [
    "# Rough plot of the volex reconstruction in Matplotlib (not very usefull unless the reconstruction is poor)\n",
    "%matplotlib inline\n",
    "plotFromVoxels(y_true[2,:,:,:,0])\n",
    "plt.show()"
   ]
  },
  {
   "cell_type": "code",
   "execution_count": null,
   "metadata": {},
   "outputs": [],
   "source": []
  }
 ],
 "metadata": {
  "kernelspec": {
   "display_name": "Python (3dgan)",
   "language": "python",
   "name": "3dgan"
  },
  "language_info": {
   "codemirror_mode": {
    "name": "ipython",
    "version": 2
   },
   "file_extension": ".py",
   "mimetype": "text/x-python",
   "name": "python",
   "nbconvert_exporter": "python",
   "pygments_lexer": "ipython2",
   "version": "2.7.6"
  }
 },
 "nbformat": 4,
 "nbformat_minor": 2
}

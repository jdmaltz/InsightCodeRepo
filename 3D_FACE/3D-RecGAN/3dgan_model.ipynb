{
 "cells": [
  {
   "cell_type": "code",
   "execution_count": 6,
   "metadata": {},
   "outputs": [],
   "source": [
    "import os\n",
    "import numpy as np\n",
    "import scipy.io\n",
    "import tensorflow as tf\n",
    "import tools\n",
    "\n",
    "GPU0 = '0'\n"
   ]
  },
  {
   "cell_type": "code",
   "execution_count": 7,
   "metadata": {},
   "outputs": [],
   "source": [
    "def ttest_demo():\n",
    "    ####### load sample data\n",
    "    x_path = './Data_sample/P1_03001627_chair/test_25d_vox256/1c08f2aa305f124262e682c9809bff14_0_0_0.npz'\n",
    "    y_true_path = './Data_sample/P1_03001627_chair/test_3d_vox256/1c08f2aa305f124262e682c9809bff14_0_0_0.npz'\n",
    "    x_sample = tools.Data.load_single_voxel_grid(x_path, out_vox_res=64)\n",
    "    y_true = tools.Data.load_single_voxel_grid(y_true_path, out_vox_res=256)\n",
    "\n",
    "    ####### load model + testing\n",
    "    model_path = './Model_released/Model_released/'\n",
    "    if not os.path.isfile(model_path + 'model.cptk.data-00000-of-00001'):\n",
    "        print ('please download our released model first!')\n",
    "        return\n",
    "\n",
    "    config = tf.ConfigProto(allow_soft_placement=True)\n",
    "    config.gpu_options.visible_device_list = GPU0\n",
    "    with tf.Session(config=config) as sess:\n",
    "        saver = tf.train.import_meta_graph( model_path +'model.cptk.meta', clear_devices=True)\n",
    "        saver.restore(sess, model_path+ 'model.cptk')\n",
    "        print ('model restored!')\n",
    "\n",
    "        X = tf.get_default_graph().get_tensor_by_name(\"Placeholder:0\")\n",
    "        Y_pred = tf.get_default_graph().get_tensor_by_name(\"aeu/Sigmoid:0\")\n",
    "        x_sample = x_sample.reshape(1, 64, 64, 64, 1)\n",
    "        y_pred = sess.run(Y_pred, feed_dict={X: x_sample})\n",
    "\n",
    "    ###### save result\n",
    "    x_sample = x_sample.reshape(64, 64, 64)\n",
    "    y_pred = y_pred.reshape(256, 256, 256)\n",
    "    x_sample = x_sample.astype(np.int8)\n",
    "    y_pred = y_pred.astype(np.float16)\n",
    "    y_true = y_true.astype(np.int8)\n",
    "    to_save = {'X_test': x_sample, 'Y_test_pred': y_pred, 'Y_test_true': y_true}\n",
    "    scipy.io.savemat('demo_result.mat', to_save, do_compression=True)\n",
    "    print ('results saved.')\n"
   ]
  },
  {
   "cell_type": "code",
   "execution_count": 8,
   "metadata": {},
   "outputs": [],
   "source": [
    "def visualize():\n",
    "    ######\n",
    "    result_path = 'demo_result.mat'\n",
    "    mat = scipy.io.loadmat(result_path)\n",
    "    x_sample = mat['X_test']\n",
    "    y_pred = mat['Y_test_pred']\n",
    "    y_true = mat['Y_test_true']\n",
    "\n",
    "    ######  if the GPU serve is able to visualize, otherwise comment the following lines\n",
    "    th = 0.5\n",
    "    y_pred[y_pred >= th] = 1\n",
    "    y_pred[y_pred < th] = 0\n",
    "    tools.Data.plotFromVoxels(x_sample, title='x_sample')\n",
    "    tools.Data.plotFromVoxels(y_pred, title='y_pred')\n",
    "    tools.Data.plotFromVoxels(y_true, title='y_true')\n",
    "    from matplotlib.pyplot import show\n",
    "    show()"
   ]
  },
  {
   "cell_type": "code",
   "execution_count": null,
   "metadata": {},
   "outputs": [
    {
     "name": "stdout",
     "output_type": "stream",
     "text": [
      "INFO:tensorflow:Restoring parameters from ./Model_released/Model_released/model.cptk\n",
      "model restored!\n"
     ]
    }
   ],
   "source": [
    "if __name__ == '__main__':\n",
    "    ttest_demo()\n",
    "    visualize()"
   ]
  },
  {
   "cell_type": "code",
   "execution_count": null,
   "metadata": {},
   "outputs": [],
   "source": []
  }
 ],
 "metadata": {
  "kernelspec": {
   "display_name": "Python (3dgan)",
   "language": "python",
   "name": "3dgan"
  },
  "language_info": {
   "codemirror_mode": {
    "name": "ipython",
    "version": 2
   },
   "file_extension": ".py",
   "mimetype": "text/x-python",
   "name": "python",
   "nbconvert_exporter": "python",
   "pygments_lexer": "ipython2",
   "version": "2.7.6"
  }
 },
 "nbformat": 4,
 "nbformat_minor": 2
}

{
 "cells": [
  {
   "cell_type": "code",
   "execution_count": 9,
   "metadata": {},
   "outputs": [],
   "source": [
    "import os\n",
    "import numpy as np\n",
    "import scipy.io\n",
    "import tensorflow as tf\n",
    "#import tools\n",
    "import matplotlib.pyplot as plt\n",
    "\n",
    "GPU0 = '0'"
   ]
  },
  {
   "cell_type": "code",
   "execution_count": 10,
   "metadata": {},
   "outputs": [],
   "source": [
    "def ttest_demo():\n",
    "    ####### load sample data\n",
    "    x_path = './Data_sample/P1_03001627_chair/test_25d_vox256/1c08f2aa305f124262e682c9809bff14_0_0_0.npz'\n",
    "    y_true_path = './Data_sample/P1_03001627_chair/test_3d_vox256/1c08f2aa305f124262e682c9809bff14_0_0_0.npz'\n",
    "    x_sample = tools.Data.load_single_voxel_grid(x_path, out_vox_res=64)\n",
    "    y_true = tools.Data.load_single_voxel_grid(y_true_path, out_vox_res=256)\n",
    "\n",
    "    ####### load model + testing\n",
    "    model_path = './Model_released/'\n",
    "    if not os.path.isfile(model_path + 'model.cptk.data-00000-of-00001'):\n",
    "        print ('please download our released model first!')\n",
    "        return\n",
    "\n",
    "    config = tf.ConfigProto(allow_soft_placement=True)\n",
    "    config.gpu_options.visible_device_list = GPU0\n",
    "    with tf.Session(config=config) as sess:\n",
    "        saver = tf.train.import_meta_graph( model_path +'model.cptk.meta', clear_devices=True)\n",
    "        saver.restore(sess, model_path+ 'model.cptk')\n",
    "        print ('model restored!')\n",
    "\n",
    "        X = tf.get_default_graph().get_tensor_by_name(\"Placeholder:0\")\n",
    "        Y_pred = tf.get_default_graph().get_tensor_by_name(\"aeu/Sigmoid:0\")\n",
    "        x_sample = x_sample.reshape(1, 64, 64, 64, 1)\n",
    "        y_pred = sess.run(Y_pred, feed_dict={X: x_sample})\n",
    "\n",
    "    ###### save result\n",
    "    x_sample = x_sample.reshape(64, 64, 64)\n",
    "    y_pred = y_pred.reshape(256, 256, 256)\n",
    "    x_sample = x_sample.astype(np.int8)\n",
    "    y_pred = y_pred.astype(np.float16)\n",
    "    y_true = y_true.astype(np.int8)\n",
    "    to_save = {'X_test': x_sample, 'Y_test_pred': y_pred, 'Y_test_true': y_true}\n",
    "    scipy.io.savemat('demo_result.mat', to_save, do_compression=True)\n",
    "    print ('results saved.')\n",
    "\n",
    "def visualize():\n",
    "    ######\n",
    "    result_path = 'demo_result.mat'\n",
    "    mat = scipy.io.loadmat(result_path)\n",
    "    x_sample = mat['X_test']\n",
    "    y_pred = mat['Y_test_pred']\n",
    "    y_true = mat['Y_test_true']\n",
    "\n",
    "    ######  if the GPU serve is able to visualize, otherwise comment the following lines\n",
    "    th = 0.5\n",
    "    y_pred[y_pred >= th] = 1\n",
    "    y_pred[y_pred < th] = 0\n",
    "    tools.Data.plotFromVoxels(x_sample, title='x_sample')\n",
    "    tools.Data.plotFromVoxels(y_pred, title='y_pred')\n",
    "    tools.Data.plotFromVoxels(y_true, title='y_true')\n",
    "    from matplotlib.pyplot import show\n",
    "    show()"
   ]
  },
  {
   "cell_type": "code",
   "execution_count": 1,
   "metadata": {},
   "outputs": [],
   "source": [
    "    def plotFromVoxels(voxels,title=''):\n",
    "        if len(voxels.shape)>3:\n",
    "            x_d = voxels.shape[0]\n",
    "            y_d = voxels.shape[1]\n",
    "            z_d = voxels.shape[2]\n",
    "            v = voxels[:,:,:,0]\n",
    "            v = np.reshape(v,(x_d,y_d,z_d))\n",
    "        else:\n",
    "            v = voxels\n",
    "        x, y, z = v.nonzero()\n",
    "        fig = plt.figure()\n",
    "        ax = fig.add_subplot(111, projection='3d')\n",
    "        ax.scatter(x, y, z, zdir='z', c='red')\n",
    "        #plt.show()\n",
    "        plt.title(title)\n",
    "        from matplotlib.pyplot import show\n",
    "        show(block=False)"
   ]
  },
  {
   "cell_type": "code",
   "execution_count": 4,
   "metadata": {},
   "outputs": [],
   "source": [
    "def load_single_voxel_grid(path, out_vox_res=256):\n",
    "        with np.load(path) as da:\n",
    "            voxel_grid = da['arr_0']\n",
    "        if len(voxel_grid)<=0:\n",
    "            print (\" load_single_voxel_grid error: \", path)\n",
    "            exit()\n",
    "\n",
    "        #Data.plotFromVoxels(voxel_grid)\n",
    "        voxel_grid = voxel_grid_padding(voxel_grid)\n",
    "\n",
    "        ## downsample\n",
    "        if out_vox_res < 256:\n",
    "            voxel_grid = vox_down_single(voxel_grid, to_res=out_vox_res)\n",
    "        return voxel_grid"
   ]
  },
  {
   "cell_type": "code",
   "execution_count": 5,
   "metadata": {},
   "outputs": [],
   "source": [
    "def voxel_grid_padding(a):\n",
    "        x_d = a.shape[0]\n",
    "        y_d = a.shape[1]\n",
    "        z_d = a.shape[2]\n",
    "        channel = a.shape[3]\n",
    "        ori_vox_res = 256\n",
    "        size = [ori_vox_res, ori_vox_res, ori_vox_res,channel]\n",
    "        b = np.zeros(size,dtype=np.float32)\n",
    "\n",
    "        bx_s = 0;bx_e = size[0];by_s = 0;by_e = size[1];bz_s = 0; bz_e = size[2]\n",
    "        ax_s = 0;ax_e = x_d;ay_s = 0;ay_e = y_d;az_s = 0;az_e = z_d\n",
    "        if x_d > size[0]:\n",
    "            ax_s = int((x_d - size[0]) / 2)\n",
    "            ax_e = int((x_d - size[0]) / 2) + size[0]\n",
    "        else:\n",
    "            bx_s = int((size[0] - x_d) / 2)\n",
    "            bx_e = int((size[0] - x_d) / 2) + x_d\n",
    "\n",
    "        if y_d > size[1]:\n",
    "            ay_s = int((y_d - size[1]) / 2)\n",
    "            ay_e = int((y_d - size[1]) / 2) + size[1]\n",
    "        else:\n",
    "            by_s = int((size[1] - y_d) / 2)\n",
    "            by_e = int((size[1] - y_d) / 2) + y_d\n",
    "\n",
    "        if z_d > size[2]:\n",
    "            az_s = int((z_d - size[2]) / 2)\n",
    "            az_e = int((z_d - size[2]) / 2) + size[2]\n",
    "        else:\n",
    "            bz_s = int((size[2] - z_d) / 2)\n",
    "            bz_e = int((size[2] - z_d) / 2) + z_d\n",
    "        b[bx_s:bx_e, by_s:by_e, bz_s:bz_e,:] = a[ax_s:ax_e, ay_s:ay_e, az_s:az_e, :]\n",
    "\n",
    "        #Data.plotFromVoxels(b)\n",
    "        return b"
   ]
  },
  {
   "cell_type": "code",
   "execution_count": 11,
   "metadata": {},
   "outputs": [
    {
     "data": {
      "image/png": "[encoded data removed]",
      "text/plain": [
       "<Figure size 432x288 with 1 Axes>"
      ]
     },
     "metadata": {},
     "output_type": "display_data"
    }
   ],
   "source": [
    "a=load_single_voxel_grid('./Real_table/test_3d_vox256/02_1539.npz')\n",
    "plotFromVoxels(a)"
   ]
  },
  {
   "cell_type": "code",
   "execution_count": null,
   "metadata": {},
   "outputs": [],
   "source": []
  }
 ],
 "metadata": {
  "kernelspec": {
   "display_name": "Python 3",
   "language": "python",
   "name": "python3"
  },
  "language_info": {
   "codemirror_mode": {
    "name": "ipython",
    "version": 3
   },
   "file_extension": ".py",
   "mimetype": "text/x-python",
   "name": "python",
   "nbconvert_exporter": "python",
   "pygments_lexer": "ipython3",
   "version": "3.6.5"
  }
 },
 "nbformat": 4,
 "nbformat_minor": 2
}
